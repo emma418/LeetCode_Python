{
 "cells": [
  {
   "cell_type": "markdown",
   "id": "f87387a9",
   "metadata": {},
   "source": [
    "1. Two Sum\n",
    "Given an array of integers nums and an integer target, return indices of the two numbers such that they add up to target.\n",
    "\n",
    "You may assume that each input would have exactly one solution, and you may not use the same element twice.\n",
    "\n",
    "You can return the answer in any order."
   ]
  },
  {
   "cell_type": "code",
   "execution_count": 15,
   "id": "f730795e",
   "metadata": {},
   "outputs": [],
   "source": [
    "from typing import List\n",
    "class Solution:\n",
    "    def twoSum(self, nums: List[int], target: int) -> List[int]:\n",
    "        #create a dictionary \n",
    "        map = {}\n",
    "        for i, num in enumerate(nums):\n",
    "            diff = target - num\n",
    "            if diff in map:\n",
    "                return [map[target - num], i]\n",
    "            map[num] = i\n",
    "        return []"
   ]
  },
  {
   "cell_type": "code",
   "execution_count": 17,
   "id": "1bc811e1",
   "metadata": {},
   "outputs": [
    {
     "name": "stdout",
     "output_type": "stream",
     "text": [
      "[0, 1]\n"
     ]
    }
   ],
   "source": [
    "solution = Solution()\n",
    "nums = [2,7,11,15]\n",
    "target = 9\n",
    "print(solution.twoSum(nums, target))"
   ]
  },
  {
   "cell_type": "markdown",
   "id": "de245319-b13d-4963-ab83-95335eea3ef0",
   "metadata": {},
   "source": [
    "9. Palindrome Number\n",
    "Given an integer x, return true if x is a palindrome, and false otherwise."
   ]
  },
  {
   "cell_type": "code",
   "execution_count": null,
   "id": "40a649ac-5744-4716-bd12-452f6630ddd8",
   "metadata": {},
   "outputs": [],
   "source": [
    "class Solution:\n",
    "    def isPalindrome(self, x: int) -> bool:\n",
    "        if x < 0:\n",
    "            return False\n",
    "        original = x\n",
    "        reversed_number = 0\n",
    "        while x > 0:\n",
    "            digit = x % 10\n",
    "            reversed_number = reversed_number * 10 + digit\n",
    "            x = x // 10\n",
    "        return reversed_number == original\n",
    "\n",
    "solution2 = Solution()\n",
    "x = 121\n",
    "print(solution2.isPalindrome(x))                 "
   ]
  },
  {
   "cell_type": "markdown",
   "id": "6ca0f182-bf1c-4292-8648-6fe90284853d",
   "metadata": {},
   "source": [
    "#solution 2, convert the number into a string, than reverse it"
   ]
  },
  {
   "cell_type": "code",
   "execution_count": null,
   "id": "043c3af1-c54e-4ece-a554-5d741a70de5f",
   "metadata": {},
   "outputs": [],
   "source": [
    "class Solution:\n",
    "    def isPalindrome(self, x: int) -> bool:\n",
    "        str_x = str(x)\n",
    "        return str_x == str_x[::-1]"
   ]
  },
  {
   "cell_type": "code",
   "execution_count": null,
   "id": "582f2ee4-e063-45e3-9d04-b1028fe19c3a",
   "metadata": {},
   "outputs": [],
   "source": []
  }
 ],
 "metadata": {
  "kernelspec": {
   "display_name": "Python 3 (ipykernel)",
   "language": "python",
   "name": "python3"
  },
  "language_info": {
   "codemirror_mode": {
    "name": "ipython",
    "version": 3
   },
   "file_extension": ".py",
   "mimetype": "text/x-python",
   "name": "python",
   "nbconvert_exporter": "python",
   "pygments_lexer": "ipython3",
   "version": "3.11.7"
  }
 },
 "nbformat": 4,
 "nbformat_minor": 5
}
